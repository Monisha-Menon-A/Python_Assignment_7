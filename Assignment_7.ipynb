{
 "cells": [
  {
   "cell_type": "code",
   "execution_count": 2,
   "id": "bd4357cb-42e0-4c9b-9b8b-51312bd5d5f4",
   "metadata": {},
   "outputs": [],
   "source": [
    "import numpy as np\n",
    "import pandas as pd"
   ]
  },
  {
   "cell_type": "code",
   "execution_count": 3,
   "id": "b61a8fb5-f5f2-4e65-9d38-e90bac29caad",
   "metadata": {},
   "outputs": [
    {
     "name": "stdout",
     "output_type": "stream",
     "text": [
      "Reshaped Array:\n",
      " [[ 1  2  3  4  5]\n",
      " [ 6  7  8  9 10]]\n"
     ]
    }
   ],
   "source": [
    "# Exercise 1\n",
    "array1 = np.arange(1, 11).reshape(2, 5)\n",
    "print(\"Reshaped Array:\\n\", array1)"
   ]
  },
  {
   "cell_type": "code",
   "execution_count": 4,
   "id": "b0aa2117-bca5-4dd2-89d6-0d3fce276f2f",
   "metadata": {},
   "outputs": [
    {
     "name": "stdout",
     "output_type": "stream",
     "text": [
      "\n",
      "Extracted Elements: [ 6  7  8  9 10 11 12 13 14 15 16]\n"
     ]
    }
   ],
   "source": [
    "# Exercise 2\n",
    "array2 = np.arange(1, 21)\n",
    "extracted_elements = array2[5:16]  \n",
    "print(\"\\nExtracted Elements:\", extracted_elements)"
   ]
  },
  {
   "cell_type": "code",
   "execution_count": 5,
   "id": "f634437e-6f77-4d18-b323-2d308a45ed0f",
   "metadata": {},
   "outputs": [
    {
     "name": "stdout",
     "output_type": "stream",
     "text": [
      "\n",
      "Updated Series:\n",
      " apples     3\n",
      "bananas    2\n",
      "oranges    1\n",
      "pears      4\n",
      "dtype: int64\n"
     ]
    }
   ],
   "source": [
    "# Exercise 3\n",
    "data = {'apples': 3, 'bananas': 2, 'oranges': 1}\n",
    "series = pd.Series(data)\n",
    "series['pears'] = 4\n",
    "print(\"\\nUpdated Series:\\n\", series)"
   ]
  },
  {
   "cell_type": "code",
   "execution_count": 6,
   "id": "94045413-0df2-41a0-bf04-508996e88064",
   "metadata": {},
   "outputs": [
    {
     "name": "stdout",
     "output_type": "stream",
     "text": [
      "\n",
      "DataFrame:\n",
      "         name  age  gender\n",
      "0   Person 1   28    Male\n",
      "1   Person 2   30  Female\n",
      "2   Person 3   41    Male\n",
      "3   Person 4   30  Female\n",
      "4   Person 5   27    Male\n",
      "5   Person 6   31  Female\n",
      "6   Person 7   34    Male\n",
      "7   Person 8   44  Female\n",
      "8   Person 9   36    Male\n",
      "9  Person 10   30  Female\n"
     ]
    }
   ],
   "source": [
    "# Exercise 4\n",
    "dataframe = pd.DataFrame({\n",
    "    'name': [f'Person {i+1}' for i in range(10)],\n",
    "    'age': np.random.randint(20, 45, size=10),\n",
    "    'gender': ['Male' if i % 2 == 0 else 'Female' for i in range(10)]})\n",
    "print(\"\\nDataFrame:\\n\", dataframe)\n"
   ]
  },
  {
   "cell_type": "code",
   "execution_count": 7,
   "id": "fc25d410-f1d1-46ca-a811-4960d90b4ad8",
   "metadata": {},
   "outputs": [
    {
     "name": "stdout",
     "output_type": "stream",
     "text": [
      "\n",
      "DataFrame with Occupation:\n",
      "         name  age  gender  occupation\n",
      "0   Person 1   28    Male  Programmer\n",
      "1   Person 2   30  Female     Manager\n",
      "2   Person 3   41    Male     Analyst\n",
      "3   Person 4   30  Female  Programmer\n",
      "4   Person 5   27    Male     Manager\n",
      "5   Person 6   31  Female     Analyst\n",
      "6   Person 7   34    Male  Programmer\n",
      "7   Person 8   44  Female     Manager\n",
      "8   Person 9   36    Male     Analyst\n",
      "9  Person 10   30  Female  Programmer\n"
     ]
    }
   ],
   "source": [
    "# Exercise 5\n",
    "dataframe['occupation'] = ['Programmer', 'Manager', 'Analyst'] * 3 + ['Programmer']\n",
    "print(\"\\nDataFrame with Occupation:\\n\", dataframe)"
   ]
  },
  {
   "cell_type": "code",
   "execution_count": 10,
   "id": "9643caf2-c75c-435a-a374-ec9a201ff464",
   "metadata": {},
   "outputs": [
    {
     "name": "stdout",
     "output_type": "stream",
     "text": [
      "\n",
      "Filtered DataFrame (age >= 30):\n",
      "         name  age  gender  occupation\n",
      "1   Person 2   30  Female     Manager\n",
      "2   Person 3   41    Male     Analyst\n",
      "3   Person 4   30  Female  Programmer\n",
      "5   Person 6   31  Female     Analyst\n",
      "6   Person 7   34    Male  Programmer\n",
      "7   Person 8   44  Female     Manager\n",
      "8   Person 9   36    Male     Analyst\n",
      "9  Person 10   30  Female  Programmer\n"
     ]
    }
   ],
   "source": [
    "# Exercise 6\n",
    "filtered_dataframe = dataframe[dataframe['age'] >= 30]\n",
    "print(\"\\nFiltered DataFrame (age >= 30):\\n\", filtered_dataframe)"
   ]
  },
  {
   "cell_type": "code",
   "execution_count": 11,
   "id": "b4d64a64-7d22-48a3-8d57-5567b7c78dad",
   "metadata": {},
   "outputs": [
    {
     "name": "stdout",
     "output_type": "stream",
     "text": [
      "\n",
      "CSV Contents:\n",
      "         name  age  gender  occupation\n",
      "0   Person 1   28    Male  Programmer\n",
      "1   Person 2   30  Female     Manager\n",
      "2   Person 3   41    Male     Analyst\n",
      "3   Person 4   30  Female  Programmer\n",
      "4   Person 5   27    Male     Manager\n",
      "5   Person 6   31  Female     Analyst\n",
      "6   Person 7   34    Male  Programmer\n",
      "7   Person 8   44  Female     Manager\n",
      "8   Person 9   36    Male     Analyst\n",
      "9  Person 10   30  Female  Programmer\n"
     ]
    }
   ],
   "source": [
    "# Exercise 7\n",
    "dataframe.to_csv('dataframe.csv', index=False)\n",
    "read_dataframe = pd.read_csv('dataframe.csv')\n",
    "print(\"\\nCSV Contents:\\n\", read_dataframe)\n"
   ]
  },
  {
   "cell_type": "code",
   "execution_count": null,
   "id": "3cb31f21-428b-428d-a780-b5351a982596",
   "metadata": {},
   "outputs": [],
   "source": []
  }
 ],
 "metadata": {
  "kernelspec": {
   "display_name": "Python 3 (ipykernel)",
   "language": "python",
   "name": "python3"
  },
  "language_info": {
   "codemirror_mode": {
    "name": "ipython",
    "version": 3
   },
   "file_extension": ".py",
   "mimetype": "text/x-python",
   "name": "python",
   "nbconvert_exporter": "python",
   "pygments_lexer": "ipython3",
   "version": "3.12.7"
  }
 },
 "nbformat": 4,
 "nbformat_minor": 5
}
